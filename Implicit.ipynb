{
 "cells": [
  {
   "cell_type": "code",
   "execution_count": 546,
   "metadata": {
    "_cell_guid": "b1076dfc-b9ad-4769-8c92-a6c4dae69d19",
    "_uuid": "8f2839f25d086af736a60e9eeb907d3b93b6e0e5"
   },
   "outputs": [],
   "source": [
    "# This Python 3 environment comes with many helpful analytics libraries installed\n",
    "# It is defined by the kaggle/python Docker image: https://github.com/kaggle/docker-python\n",
    "# For example, here's several helpful packages to load\n",
    "\n",
    "import numpy as np # linear algebra\n",
    "import pandas as pd # data processing, CSV file I/O (e.g. pd.read_csv)\n",
    "import matplotlib.pyplot as plt\n",
    "import seaborn as sns\n",
    "import scipy.sparse as sp\n",
    "from itertools import islice, cycle\n",
    "from more_itertools import pairwise\n",
    "from tqdm.auto import tqdm\n",
    "\n",
    "# Input data files are available in the read-only \"../input/\" directory\n",
    "# For example, running this (by clicking run or pressing Shift+Enter) will list all files under the input directory\n",
    "\n",
    "import os\n",
    "for dirname, _, filenames in os.walk('/kaggle/input'):\n",
    "    for filename in filenames:\n",
    "        print(os.path.join(dirname, filename))\n",
    "os.chdir(\"C:\\\\Users\\\\Администратор.WIN-U1NLG8MM702\\\\Documents\\\\Katerina\\\\Datasets for analysis\")\n",
    "# You can write up to 20GB to the current directory (/kaggle/working/) that gets preserved as output when you create a version using \"Save & Run All\" \n",
    "# You can also write temporary files to /kaggle/temp/, but they won't be saved outside of the current session"
   ]
  },
  {
   "cell_type": "code",
   "execution_count": 547,
   "metadata": {},
   "outputs": [],
   "source": [
    "\n",
    "interactions = pd.read_csv('interactions.csv')\n",
    "items = pd.read_csv('items.csv')\n",
    "users = pd.read_csv('users.csv')"
   ]
  },
  {
   "cell_type": "code",
   "execution_count": 758,
   "metadata": {},
   "outputs": [],
   "source": [
    "forrand=pd.read_csv('interactions.csv')"
   ]
  },
  {
   "cell_type": "code",
   "execution_count": 731,
   "metadata": {},
   "outputs": [
    {
     "data": {
      "text/plain": [
       "(1562617, 5)"
      ]
     },
     "execution_count": 731,
     "metadata": {},
     "output_type": "execute_result"
    }
   ],
   "source": [
    "forrand.shape"
   ]
  },
  {
   "cell_type": "code",
   "execution_count": 733,
   "metadata": {},
   "outputs": [
    {
     "data": {
      "text/plain": [
       "(323571, 5)"
      ]
     },
     "execution_count": 733,
     "metadata": {},
     "output_type": "execute_result"
    }
   ],
   "source": [
    "forrand.shape"
   ]
  },
  {
   "cell_type": "code",
   "execution_count": 635,
   "metadata": {},
   "outputs": [],
   "source": [
    "sample = pd.read_csv('sample_submission.csv') "
   ]
  },
  {
   "cell_type": "code",
   "execution_count": 636,
   "metadata": {},
   "outputs": [
    {
     "data": {
      "text/html": [
       "<div>\n",
       "<style scoped>\n",
       "    .dataframe tbody tr th:only-of-type {\n",
       "        vertical-align: middle;\n",
       "    }\n",
       "\n",
       "    .dataframe tbody tr th {\n",
       "        vertical-align: top;\n",
       "    }\n",
       "\n",
       "    .dataframe thead th {\n",
       "        text-align: right;\n",
       "    }\n",
       "</style>\n",
       "<table border=\"1\" class=\"dataframe\">\n",
       "  <thead>\n",
       "    <tr style=\"text-align: right;\">\n",
       "      <th></th>\n",
       "      <th>Id</th>\n",
       "      <th>Predicted</th>\n",
       "    </tr>\n",
       "  </thead>\n",
       "  <tbody>\n",
       "    <tr>\n",
       "      <th>50</th>\n",
       "      <td>10309</td>\n",
       "      <td>313 253 245 205 187 168 155 149 146 128 128 12...</td>\n",
       "    </tr>\n",
       "  </tbody>\n",
       "</table>\n",
       "</div>"
      ],
      "text/plain": [
       "       Id                                          Predicted\n",
       "50  10309  313 253 245 205 187 168 155 149 146 128 128 12..."
      ]
     },
     "execution_count": 636,
     "metadata": {},
     "output_type": "execute_result"
    }
   ],
   "source": [
    "sample[sample['Id']==10309]"
   ]
  },
  {
   "cell_type": "code",
   "execution_count": 550,
   "metadata": {},
   "outputs": [
    {
     "data": {
      "text/plain": [
       "((1562617, 5), (63758, 5), (137254, 3))"
      ]
     },
     "execution_count": 550,
     "metadata": {},
     "output_type": "execute_result"
    }
   ],
   "source": [
    "interactions.shape, items.shape, users.shape"
   ]
  },
  {
   "cell_type": "markdown",
   "metadata": {},
   "source": [
    "### Предобработка"
   ]
  },
  {
   "cell_type": "code",
   "execution_count": 551,
   "metadata": {},
   "outputs": [],
   "source": [
    "interactions['start_date'] = pd.to_datetime(interactions['start_date'])"
   ]
  },
  {
   "cell_type": "code",
   "execution_count": 552,
   "metadata": {},
   "outputs": [],
   "source": [
    "duplicates = interactions.duplicated(subset=['user_id', 'item_id'], keep=False)\n",
    "df_duplicates = interactions[duplicates].sort_values(by=['user_id', 'start_date'])\n",
    "interactions = interactions[~duplicates]"
   ]
  },
  {
   "cell_type": "code",
   "execution_count": 553,
   "metadata": {},
   "outputs": [],
   "source": [
    "df_duplicates = df_duplicates.groupby(['user_id', 'item_id']).agg({\n",
    "    'progress': 'max',\n",
    "    'rating': 'max',\n",
    "    'start_date': 'min'\n",
    "})\n",
    "interactions = interactions.append(df_duplicates.reset_index(), ignore_index=True)"
   ]
  },
  {
   "cell_type": "code",
   "execution_count": 554,
   "metadata": {},
   "outputs": [],
   "source": [
    "interactions['progress'] = interactions['progress'].astype(np.int8)\n",
    "interactions['rating'] = interactions['rating'].astype(pd.SparseDtype(np.float32, np.nan))"
   ]
  },
  {
   "cell_type": "code",
   "execution_count": 572,
   "metadata": {},
   "outputs": [
    {
     "name": "stdout",
     "output_type": "stream",
     "text": [
      "<class 'pandas.core.frame.DataFrame'>\n",
      "RangeIndex: 1562505 entries, 0 to 1562504\n",
      "Data columns (total 5 columns):\n",
      " #   Column      Non-Null Count    Dtype               \n",
      "---  ------      --------------    -----               \n",
      " 0   user_id     1562505 non-null  int64               \n",
      " 1   item_id     1562505 non-null  int64               \n",
      " 2   progress    1562505 non-null  int8                \n",
      " 3   rating      323563 non-null   Sparse[float32, nan]\n",
      " 4   start_date  1562505 non-null  datetime64[ns]      \n",
      "dtypes: Sparse[float32, nan](1), datetime64[ns](1), int64(2), int8(1)\n",
      "memory usage: 39.7 MB\n"
     ]
    }
   ],
   "source": [
    "interactions.info()"
   ]
  },
  {
   "cell_type": "code",
   "execution_count": 573,
   "metadata": {},
   "outputs": [],
   "source": [
    "interactions.to_pickle('interactions_preprocessed.pickle')"
   ]
  },
  {
   "cell_type": "code",
   "execution_count": 574,
   "metadata": {},
   "outputs": [
    {
     "data": {
      "text/html": [
       "<div>\n",
       "<style scoped>\n",
       "    .dataframe tbody tr th:only-of-type {\n",
       "        vertical-align: middle;\n",
       "    }\n",
       "\n",
       "    .dataframe tbody tr th {\n",
       "        vertical-align: top;\n",
       "    }\n",
       "\n",
       "    .dataframe thead th {\n",
       "        text-align: right;\n",
       "    }\n",
       "</style>\n",
       "<table border=\"1\" class=\"dataframe\">\n",
       "  <thead>\n",
       "    <tr style=\"text-align: right;\">\n",
       "      <th></th>\n",
       "      <th>user_id</th>\n",
       "      <th>age</th>\n",
       "      <th>sex</th>\n",
       "    </tr>\n",
       "  </thead>\n",
       "  <tbody>\n",
       "    <tr>\n",
       "      <th>0</th>\n",
       "      <td>0</td>\n",
       "      <td>45_54</td>\n",
       "      <td>1.0</td>\n",
       "    </tr>\n",
       "    <tr>\n",
       "      <th>1</th>\n",
       "      <td>1</td>\n",
       "      <td>25_34</td>\n",
       "      <td>0.0</td>\n",
       "    </tr>\n",
       "    <tr>\n",
       "      <th>2</th>\n",
       "      <td>2</td>\n",
       "      <td>45_54</td>\n",
       "      <td>0.0</td>\n",
       "    </tr>\n",
       "    <tr>\n",
       "      <th>3</th>\n",
       "      <td>3</td>\n",
       "      <td>65_inf</td>\n",
       "      <td>0.0</td>\n",
       "    </tr>\n",
       "    <tr>\n",
       "      <th>4</th>\n",
       "      <td>4</td>\n",
       "      <td>18_24</td>\n",
       "      <td>0.0</td>\n",
       "    </tr>\n",
       "  </tbody>\n",
       "</table>\n",
       "</div>"
      ],
      "text/plain": [
       "   user_id     age  sex\n",
       "0        0   45_54  1.0\n",
       "1        1   25_34  0.0\n",
       "2        2   45_54  0.0\n",
       "3        3  65_inf  0.0\n",
       "4        4   18_24  0.0"
      ]
     },
     "execution_count": 574,
     "metadata": {},
     "output_type": "execute_result"
    }
   ],
   "source": [
    "users.head()"
   ]
  },
  {
   "cell_type": "code",
   "execution_count": 575,
   "metadata": {},
   "outputs": [
    {
     "name": "stdout",
     "output_type": "stream",
     "text": [
      "<class 'pandas.core.frame.DataFrame'>\n",
      "RangeIndex: 137254 entries, 0 to 137253\n",
      "Data columns (total 3 columns):\n",
      " #   Column   Non-Null Count   Dtype               \n",
      "---  ------   --------------   -----               \n",
      " 0   user_id  137254 non-null  int64               \n",
      " 1   age      137244 non-null  category            \n",
      " 2   sex      135640 non-null  Sparse[float32, nan]\n",
      "dtypes: Sparse[float32, nan](1), category(1), int64(1)\n",
      "memory usage: 2.2 MB\n"
     ]
    }
   ],
   "source": [
    "users.info()"
   ]
  },
  {
   "cell_type": "code",
   "execution_count": 576,
   "metadata": {},
   "outputs": [
    {
     "data": {
      "text/plain": [
       "user_id    137254\n",
       "age             6\n",
       "sex             2\n",
       "dtype: int64"
      ]
     },
     "execution_count": 576,
     "metadata": {},
     "output_type": "execute_result"
    }
   ],
   "source": [
    "users.nunique()"
   ]
  },
  {
   "cell_type": "code",
   "execution_count": 577,
   "metadata": {},
   "outputs": [],
   "source": [
    "users['age'] = users['age'].astype('category')\n",
    "users['sex'] = users['sex'].astype(pd.SparseDtype(np.float32, np.nan))\n"
   ]
  },
  {
   "cell_type": "code",
   "execution_count": 578,
   "metadata": {},
   "outputs": [
    {
     "name": "stdout",
     "output_type": "stream",
     "text": [
      "<class 'pandas.core.frame.DataFrame'>\n",
      "RangeIndex: 137254 entries, 0 to 137253\n",
      "Data columns (total 3 columns):\n",
      " #   Column   Non-Null Count   Dtype               \n",
      "---  ------   --------------   -----               \n",
      " 0   user_id  137254 non-null  int64               \n",
      " 1   age      137244 non-null  category            \n",
      " 2   sex      135640 non-null  Sparse[float32, nan]\n",
      "dtypes: Sparse[float32, nan](1), category(1), int64(1)\n",
      "memory usage: 2.2 MB\n"
     ]
    }
   ],
   "source": [
    "users.info()"
   ]
  },
  {
   "cell_type": "code",
   "execution_count": 579,
   "metadata": {},
   "outputs": [
    {
     "name": "stdout",
     "output_type": "stream",
     "text": [
      "Кол-во пользователей - 164771\n",
      "Кол-во пользователей c взаимодействиями и фичами - 130808 (79.39%)\n",
      "Кол-во пользователей только c взаимодействиями - 27517 (16.70%)\n",
      "Кол-во пользователей только c фичами - 6446 (3.91%)\n"
     ]
    }
   ],
   "source": [
    "interaction_users = interactions['user_id'].unique()\n",
    "\n",
    "common_users = len(np.intersect1d(interaction_users, users['user_id']))\n",
    "users_only_in_interaction = len(np.setdiff1d(interaction_users, users['user_id']))\n",
    "users_only_features = len(np.setdiff1d(users['user_id'], interaction_users))\n",
    "total_users = common_users + users_only_in_interaction + users_only_features\n",
    "print(f'Кол-во пользователей - {total_users}')\n",
    "print(f'Кол-во пользователей c взаимодействиями и фичами - {common_users} ({common_users / total_users * 100:.2f}%)')\n",
    "print(f'Кол-во пользователей только c взаимодействиями - {users_only_in_interaction} ({users_only_in_interaction / total_users * 100:.2f}%)')\n",
    "print(f'Кол-во пользователей только c фичами - {users_only_features} ({users_only_features / total_users * 100:.2f}%)')"
   ]
  },
  {
   "cell_type": "code",
   "execution_count": 580,
   "metadata": {},
   "outputs": [],
   "source": [
    "users.to_pickle('users_preprocessed.pickle')"
   ]
  },
  {
   "cell_type": "code",
   "execution_count": 581,
   "metadata": {},
   "outputs": [
    {
     "data": {
      "text/html": [
       "<div>\n",
       "<style scoped>\n",
       "    .dataframe tbody tr th:only-of-type {\n",
       "        vertical-align: middle;\n",
       "    }\n",
       "\n",
       "    .dataframe tbody tr th {\n",
       "        vertical-align: top;\n",
       "    }\n",
       "\n",
       "    .dataframe thead th {\n",
       "        text-align: right;\n",
       "    }\n",
       "</style>\n",
       "<table border=\"1\" class=\"dataframe\">\n",
       "  <thead>\n",
       "    <tr style=\"text-align: right;\">\n",
       "      <th></th>\n",
       "      <th>id</th>\n",
       "      <th>title</th>\n",
       "      <th>genres</th>\n",
       "      <th>authors</th>\n",
       "      <th>year</th>\n",
       "    </tr>\n",
       "  </thead>\n",
       "  <tbody>\n",
       "    <tr>\n",
       "      <th>0</th>\n",
       "      <td>248031</td>\n",
       "      <td>ворон-челобитчик</td>\n",
       "      <td>Зарубежные детские книги,Сказки,Зарубежная кла...</td>\n",
       "      <td>Михаил Салтыков-Щедрин</td>\n",
       "      <td>1886</td>\n",
       "    </tr>\n",
       "    <tr>\n",
       "      <th>1</th>\n",
       "      <td>256084</td>\n",
       "      <td>скрипка ротшильда</td>\n",
       "      <td>Классическая проза,Литература 19 века,Русская ...</td>\n",
       "      <td>Антон Чехов</td>\n",
       "      <td>1894</td>\n",
       "    </tr>\n",
       "    <tr>\n",
       "      <th>2</th>\n",
       "      <td>134166</td>\n",
       "      <td>испорченные дети</td>\n",
       "      <td>Зарубежная классика,Классическая проза,Литерат...</td>\n",
       "      <td>Михаил Салтыков-Щедрин</td>\n",
       "      <td>1869</td>\n",
       "    </tr>\n",
       "    <tr>\n",
       "      <th>3</th>\n",
       "      <td>281311</td>\n",
       "      <td>странный человек</td>\n",
       "      <td>Пьесы и драматургия,Литература 19 века</td>\n",
       "      <td>Михаил Лермонтов</td>\n",
       "      <td>1831</td>\n",
       "    </tr>\n",
       "    <tr>\n",
       "      <th>4</th>\n",
       "      <td>213473</td>\n",
       "      <td>господа ташкентцы</td>\n",
       "      <td>Зарубежная классика,Классическая проза,Литерат...</td>\n",
       "      <td>Михаил Салтыков-Щедрин</td>\n",
       "      <td>1873</td>\n",
       "    </tr>\n",
       "  </tbody>\n",
       "</table>\n",
       "</div>"
      ],
      "text/plain": [
       "       id              title  \\\n",
       "0  248031   ворон-челобитчик   \n",
       "1  256084  скрипка ротшильда   \n",
       "2  134166   испорченные дети   \n",
       "3  281311   странный человек   \n",
       "4  213473  господа ташкентцы   \n",
       "\n",
       "                                              genres                 authors  \\\n",
       "0  Зарубежные детские книги,Сказки,Зарубежная кла...  Михаил Салтыков-Щедрин   \n",
       "1  Классическая проза,Литература 19 века,Русская ...             Антон Чехов   \n",
       "2  Зарубежная классика,Классическая проза,Литерат...  Михаил Салтыков-Щедрин   \n",
       "3             Пьесы и драматургия,Литература 19 века        Михаил Лермонтов   \n",
       "4  Зарубежная классика,Классическая проза,Литерат...  Михаил Салтыков-Щедрин   \n",
       "\n",
       "   year  \n",
       "0  1886  \n",
       "1  1894  \n",
       "2  1869  \n",
       "3  1831  \n",
       "4  1873  "
      ]
     },
     "execution_count": 581,
     "metadata": {},
     "output_type": "execute_result"
    }
   ],
   "source": [
    "items.head()"
   ]
  },
  {
   "cell_type": "code",
   "execution_count": 582,
   "metadata": {},
   "outputs": [
    {
     "data": {
      "text/plain": [
       "id         63758\n",
       "title      57992\n",
       "genres     11091\n",
       "authors    17024\n",
       "year        1074\n",
       "dtype: int64"
      ]
     },
     "execution_count": 582,
     "metadata": {},
     "output_type": "execute_result"
    }
   ],
   "source": [
    "items.nunique()\n",
    "#Почему колонка year типа object, а не int?"
   ]
  },
  {
   "cell_type": "code",
   "execution_count": 583,
   "metadata": {},
   "outputs": [],
   "source": [
    "for col in ['genres', 'authors', 'year']:\n",
    "    items[col] = items[col].astype('category')"
   ]
  },
  {
   "cell_type": "code",
   "execution_count": 584,
   "metadata": {},
   "outputs": [
    {
     "name": "stdout",
     "output_type": "stream",
     "text": [
      "Кол-во книг - 63758\n",
      "Кол-во книг c взаимодействиями и фичами - 63758 (100.00%)\n",
      "Кол-во книг только c взаимодействиями - 0 (0.00%)\n",
      "Кол-во книг только c фичами - 0 (0.00%)\n"
     ]
    }
   ],
   "source": [
    "interaction_items = interactions['item_id'].unique()\n",
    "\n",
    "common_items = len(np.intersect1d(interaction_items, items['id']))\n",
    "items_only_in_interaction = len(np.setdiff1d(interaction_items, items['id']))\n",
    "items_only_features = len(np.setdiff1d(items['id'], interaction_items))\n",
    "total_items = common_items + items_only_in_interaction + items_only_features\n",
    "print(f'Кол-во книг - {total_items}')\n",
    "print(f'Кол-во книг c взаимодействиями и фичами - {common_items} ({common_items / total_items * 100:.2f}%)')\n",
    "print(f'Кол-во книг только c взаимодействиями - {items_only_in_interaction} ({items_only_in_interaction / total_items * 100:.2f}%)')\n",
    "print(f'Кол-во книг только c фичами - {items_only_features} ({items_only_features / total_items * 100:.2f}%)')"
   ]
  },
  {
   "cell_type": "code",
   "execution_count": 585,
   "metadata": {},
   "outputs": [],
   "source": [
    "items.to_pickle('items_preprocessed.pickle')"
   ]
  },
  {
   "cell_type": "code",
   "execution_count": 586,
   "metadata": {},
   "outputs": [],
   "source": [
    "items['title'] = items['title'].str.lower()"
   ]
  },
  {
   "cell_type": "code",
   "execution_count": 587,
   "metadata": {},
   "outputs": [],
   "source": [
    "item_titles = pd.Series(items['title'].values, index=items['id']).to_dict()"
   ]
  },
  {
   "cell_type": "code",
   "execution_count": 588,
   "metadata": {},
   "outputs": [],
   "source": [
    "title_items = items.groupby('title')['id'].agg(list)"
   ]
  },
  {
   "cell_type": "markdown",
   "metadata": {},
   "source": [
    "### Надо заджоинить"
   ]
  },
  {
   "cell_type": "code",
   "execution_count": 589,
   "metadata": {},
   "outputs": [
    {
     "data": {
      "text/html": [
       "<div>\n",
       "<style scoped>\n",
       "    .dataframe tbody tr th:only-of-type {\n",
       "        vertical-align: middle;\n",
       "    }\n",
       "\n",
       "    .dataframe tbody tr th {\n",
       "        vertical-align: top;\n",
       "    }\n",
       "\n",
       "    .dataframe thead th {\n",
       "        text-align: right;\n",
       "    }\n",
       "</style>\n",
       "<table border=\"1\" class=\"dataframe\">\n",
       "  <thead>\n",
       "    <tr style=\"text-align: right;\">\n",
       "      <th></th>\n",
       "      <th>id</th>\n",
       "      <th>title</th>\n",
       "      <th>genres</th>\n",
       "      <th>authors</th>\n",
       "      <th>year</th>\n",
       "    </tr>\n",
       "  </thead>\n",
       "  <tbody>\n",
       "    <tr>\n",
       "      <th>0</th>\n",
       "      <td>248031</td>\n",
       "      <td>ворон-челобитчик</td>\n",
       "      <td>Зарубежные детские книги,Сказки,Зарубежная кла...</td>\n",
       "      <td>Михаил Салтыков-Щедрин</td>\n",
       "      <td>1886</td>\n",
       "    </tr>\n",
       "    <tr>\n",
       "      <th>1</th>\n",
       "      <td>256084</td>\n",
       "      <td>скрипка ротшильда</td>\n",
       "      <td>Классическая проза,Литература 19 века,Русская ...</td>\n",
       "      <td>Антон Чехов</td>\n",
       "      <td>1894</td>\n",
       "    </tr>\n",
       "    <tr>\n",
       "      <th>2</th>\n",
       "      <td>134166</td>\n",
       "      <td>испорченные дети</td>\n",
       "      <td>Зарубежная классика,Классическая проза,Литерат...</td>\n",
       "      <td>Михаил Салтыков-Щедрин</td>\n",
       "      <td>1869</td>\n",
       "    </tr>\n",
       "    <tr>\n",
       "      <th>3</th>\n",
       "      <td>281311</td>\n",
       "      <td>странный человек</td>\n",
       "      <td>Пьесы и драматургия,Литература 19 века</td>\n",
       "      <td>Михаил Лермонтов</td>\n",
       "      <td>1831</td>\n",
       "    </tr>\n",
       "    <tr>\n",
       "      <th>4</th>\n",
       "      <td>213473</td>\n",
       "      <td>господа ташкентцы</td>\n",
       "      <td>Зарубежная классика,Классическая проза,Литерат...</td>\n",
       "      <td>Михаил Салтыков-Щедрин</td>\n",
       "      <td>1873</td>\n",
       "    </tr>\n",
       "  </tbody>\n",
       "</table>\n",
       "</div>"
      ],
      "text/plain": [
       "       id              title  \\\n",
       "0  248031   ворон-челобитчик   \n",
       "1  256084  скрипка ротшильда   \n",
       "2  134166   испорченные дети   \n",
       "3  281311   странный человек   \n",
       "4  213473  господа ташкентцы   \n",
       "\n",
       "                                              genres                 authors  \\\n",
       "0  Зарубежные детские книги,Сказки,Зарубежная кла...  Михаил Салтыков-Щедрин   \n",
       "1  Классическая проза,Литература 19 века,Русская ...             Антон Чехов   \n",
       "2  Зарубежная классика,Классическая проза,Литерат...  Михаил Салтыков-Щедрин   \n",
       "3             Пьесы и драматургия,Литература 19 века        Михаил Лермонтов   \n",
       "4  Зарубежная классика,Классическая проза,Литерат...  Михаил Салтыков-Щедрин   \n",
       "\n",
       "   year  \n",
       "0  1886  \n",
       "1  1894  \n",
       "2  1869  \n",
       "3  1831  \n",
       "4  1873  "
      ]
     },
     "execution_count": 589,
     "metadata": {},
     "output_type": "execute_result"
    }
   ],
   "source": [
    "items.head()"
   ]
  },
  {
   "cell_type": "code",
   "execution_count": 590,
   "metadata": {},
   "outputs": [
    {
     "data": {
      "text/plain": [
       "(1562505, 5)"
      ]
     },
     "execution_count": 590,
     "metadata": {},
     "output_type": "execute_result"
    }
   ],
   "source": [
    "interactions.shape"
   ]
  },
  {
   "cell_type": "code",
   "execution_count": 591,
   "metadata": {},
   "outputs": [
    {
     "data": {
      "text/html": [
       "<div>\n",
       "<style scoped>\n",
       "    .dataframe tbody tr th:only-of-type {\n",
       "        vertical-align: middle;\n",
       "    }\n",
       "\n",
       "    .dataframe tbody tr th {\n",
       "        vertical-align: top;\n",
       "    }\n",
       "\n",
       "    .dataframe thead th {\n",
       "        text-align: right;\n",
       "    }\n",
       "</style>\n",
       "<table border=\"1\" class=\"dataframe\">\n",
       "  <thead>\n",
       "    <tr style=\"text-align: right;\">\n",
       "      <th></th>\n",
       "      <th>user_id</th>\n",
       "      <th>item_id</th>\n",
       "      <th>progress</th>\n",
       "      <th>rating</th>\n",
       "      <th>start_date</th>\n",
       "    </tr>\n",
       "  </thead>\n",
       "  <tbody>\n",
       "    <tr>\n",
       "      <th>0</th>\n",
       "      <td>90133</td>\n",
       "      <td>82910</td>\n",
       "      <td>100</td>\n",
       "      <td>NaN</td>\n",
       "      <td>2018-01-01</td>\n",
       "    </tr>\n",
       "    <tr>\n",
       "      <th>1</th>\n",
       "      <td>159130</td>\n",
       "      <td>331068</td>\n",
       "      <td>70</td>\n",
       "      <td>NaN</td>\n",
       "      <td>2018-01-01</td>\n",
       "    </tr>\n",
       "    <tr>\n",
       "      <th>2</th>\n",
       "      <td>80061</td>\n",
       "      <td>26540</td>\n",
       "      <td>69</td>\n",
       "      <td>4.0</td>\n",
       "      <td>2018-01-01</td>\n",
       "    </tr>\n",
       "    <tr>\n",
       "      <th>3</th>\n",
       "      <td>12811</td>\n",
       "      <td>301895</td>\n",
       "      <td>16</td>\n",
       "      <td>NaN</td>\n",
       "      <td>2018-01-01</td>\n",
       "    </tr>\n",
       "    <tr>\n",
       "      <th>4</th>\n",
       "      <td>5778</td>\n",
       "      <td>127872</td>\n",
       "      <td>100</td>\n",
       "      <td>NaN</td>\n",
       "      <td>2018-01-01</td>\n",
       "    </tr>\n",
       "  </tbody>\n",
       "</table>\n",
       "</div>"
      ],
      "text/plain": [
       "   user_id  item_id  progress  rating start_date\n",
       "0    90133    82910       100     NaN 2018-01-01\n",
       "1   159130   331068        70     NaN 2018-01-01\n",
       "2    80061    26540        69     4.0 2018-01-01\n",
       "3    12811   301895        16     NaN 2018-01-01\n",
       "4     5778   127872       100     NaN 2018-01-01"
      ]
     },
     "execution_count": 591,
     "metadata": {},
     "output_type": "execute_result"
    }
   ],
   "source": [
    "interactions.head()"
   ]
  },
  {
   "cell_type": "code",
   "execution_count": 592,
   "metadata": {},
   "outputs": [
    {
     "data": {
      "text/plain": [
       "(137254, 1)"
      ]
     },
     "execution_count": 592,
     "metadata": {},
     "output_type": "execute_result"
    }
   ],
   "source": [
    "users_id=pd.DataFrame({'user_id':users['user_id'].unique()})\n",
    "users_id.shape"
   ]
  },
  {
   "cell_type": "code",
   "execution_count": 593,
   "metadata": {},
   "outputs": [
    {
     "data": {
      "text/plain": [
       "(63758, 1)"
      ]
     },
     "execution_count": 593,
     "metadata": {},
     "output_type": "execute_result"
    }
   ],
   "source": [
    "items_id=pd.DataFrame({'item_id':items['id'].unique()})\n",
    "items_id.shape"
   ]
  },
  {
   "cell_type": "code",
   "execution_count": 594,
   "metadata": {},
   "outputs": [],
   "source": [
    "df=interactions.copy()"
   ]
  },
  {
   "cell_type": "code",
   "execution_count": null,
   "metadata": {},
   "outputs": [],
   "source": []
  },
  {
   "cell_type": "code",
   "execution_count": 595,
   "metadata": {},
   "outputs": [],
   "source": [
    "#User Id interactions в отдельный Датафрейм\n",
    "df1 = pd.DataFrame({'user_id': interactions.iloc[:,0]})\n",
    "# Item Id interactions в отдельный Датафрейм\n",
    "df0 = pd.DataFrame({'item_id': interactions.iloc[:,1]})"
   ]
  },
  {
   "cell_type": "code",
   "execution_count": 596,
   "metadata": {},
   "outputs": [
    {
     "data": {
      "text/plain": [
       "(6446, 1)"
      ]
     },
     "execution_count": 596,
     "metadata": {},
     "output_type": "execute_result"
    }
   ],
   "source": [
    "#ID, которые есть в users и нет в interactions\n",
    "users_id1=users_id.loc[~users_id.user_id.isin(df1.user_id),]\n",
    "users_id1.shape"
   ]
  },
  {
   "cell_type": "code",
   "execution_count": 597,
   "metadata": {},
   "outputs": [],
   "source": [
    "#interactions=pd.concat([interactions,users_id1], ignore_index=True)"
   ]
  },
  {
   "cell_type": "code",
   "execution_count": 598,
   "metadata": {},
   "outputs": [
    {
     "data": {
      "text/html": [
       "<div>\n",
       "<style scoped>\n",
       "    .dataframe tbody tr th:only-of-type {\n",
       "        vertical-align: middle;\n",
       "    }\n",
       "\n",
       "    .dataframe tbody tr th {\n",
       "        vertical-align: top;\n",
       "    }\n",
       "\n",
       "    .dataframe thead th {\n",
       "        text-align: right;\n",
       "    }\n",
       "</style>\n",
       "<table border=\"1\" class=\"dataframe\">\n",
       "  <thead>\n",
       "    <tr style=\"text-align: right;\">\n",
       "      <th></th>\n",
       "      <th>item_id</th>\n",
       "    </tr>\n",
       "  </thead>\n",
       "  <tbody>\n",
       "  </tbody>\n",
       "</table>\n",
       "</div>"
      ],
      "text/plain": [
       "Empty DataFrame\n",
       "Columns: [item_id]\n",
       "Index: []"
      ]
     },
     "execution_count": 598,
     "metadata": {},
     "output_type": "execute_result"
    }
   ],
   "source": [
    "#ID, которые есть в items и нет в interactions\n",
    "items_id1=items_id.loc[~items_id.item_id.isin(df0.item_id),]\n",
    "items_id1"
   ]
  },
  {
   "cell_type": "code",
   "execution_count": 599,
   "metadata": {},
   "outputs": [],
   "source": [
    "#interactions=pd.concat([interactions,items_id1], ignore_index=True)"
   ]
  },
  {
   "cell_type": "code",
   "execution_count": 600,
   "metadata": {},
   "outputs": [],
   "source": [
    "#interactions.info()"
   ]
  },
  {
   "cell_type": "code",
   "execution_count": 601,
   "metadata": {},
   "outputs": [],
   "source": [
    "#interactions.head()"
   ]
  },
  {
   "cell_type": "code",
   "execution_count": 602,
   "metadata": {},
   "outputs": [],
   "source": [
    "#interactions['item_id']=interactions['item_id'].fillna(-1)"
   ]
  },
  {
   "cell_type": "code",
   "execution_count": 603,
   "metadata": {},
   "outputs": [],
   "source": [
    "#interactions['item_id']=interactions[pd.notnull(interactions['item_id'])].astype({\"item_id\": \"int64\"})"
   ]
  },
  {
   "cell_type": "code",
   "execution_count": 604,
   "metadata": {},
   "outputs": [],
   "source": [
    "#interactions['item_id']=interactions['item_id'].astype({\"item_id\": \"int64\"})"
   ]
  },
  {
   "cell_type": "code",
   "execution_count": 605,
   "metadata": {},
   "outputs": [],
   "source": [
    "#interactions['user_id']=interactions['user_id'].astype({\"user_id\": \"int64\"})"
   ]
  },
  {
   "cell_type": "code",
   "execution_count": 606,
   "metadata": {},
   "outputs": [],
   "source": [
    "#interactions.info()"
   ]
  },
  {
   "cell_type": "code",
   "execution_count": 670,
   "metadata": {},
   "outputs": [
    {
     "data": {
      "text/plain": [
       "158325"
      ]
     },
     "execution_count": 670,
     "metadata": {},
     "output_type": "execute_result"
    }
   ],
   "source": [
    "users_inv_mapping = dict(enumerate(interactions['user_id'].unique())) #последовательность уникальных юзер_айди в словаре\n",
    "users_mapping = {v: k for k, v in users_inv_mapping.items()} #поменяли местами порядковый номер и айди\n",
    "len(users_mapping)"
   ]
  },
  {
   "cell_type": "code",
   "execution_count": 609,
   "metadata": {},
   "outputs": [
    {
     "data": {
      "text/plain": [
       "63758"
      ]
     },
     "execution_count": 609,
     "metadata": {},
     "output_type": "execute_result"
    }
   ],
   "source": [
    "items_inv_mapping = dict(enumerate(interactions['item_id'].unique())) #последовательность уникальных айтем_айди в словаре\n",
    "items_mapping = {v: k for k, v in items_inv_mapping.items()} #поменяли местами порядковый номер и айди\n",
    "len(items_mapping)"
   ]
  },
  {
   "cell_type": "markdown",
   "metadata": {},
   "source": [
    "### Validation"
   ]
  },
  {
   "cell_type": "code",
   "execution_count": 611,
   "metadata": {},
   "outputs": [],
   "source": [
    "def compute_metrics(df_true, df_pred, top_N):\n",
    "    result = {}\n",
    "    test_recs = df_true.set_index(['user_id', 'item_id']).join(df_pred.set_index(['user_id', 'item_id']))\n",
    "    test_recs = test_recs.sort_values(by=['user_id', 'rank'])\n",
    "\n",
    "    test_recs['users_item_count'] = test_recs.groupby(level='user_id')['rank'].transform(np.size)\n",
    "    test_recs['reciprocal_rank'] = (1 / test_recs['rank']).fillna(0)\n",
    "    test_recs['cumulative_rank'] = test_recs.groupby(level='user_id').cumcount() + 1\n",
    "    test_recs['cumulative_rank'] = test_recs['cumulative_rank'] / test_recs['rank']\n",
    "    \n",
    "    users_count = test_recs.index.get_level_values('user_id').nunique()\n",
    "    for k in range(1, top_N + 1):\n",
    "        hit_k = f'hit@{k}'\n",
    "        test_recs[hit_k] = test_recs['rank'] <= k\n",
    "        result[f'Precision@{k}'] = (test_recs[hit_k] / k).sum() / users_count\n",
    "        result[f'Recall@{k}'] = (test_recs[hit_k] / test_recs['users_item_count']).sum() / users_count\n",
    "\n",
    "    result[f'MAP@{top_N}'] = (test_recs[\"cumulative_rank\"] / test_recs[\"users_item_count\"]).sum() / users_count\n",
    "    result[f'MRR'] = test_recs.groupby(level='user_id')['reciprocal_rank'].max().mean()\n",
    "    return pd.Series(result)"
   ]
  },
  {
   "cell_type": "code",
   "execution_count": 612,
   "metadata": {},
   "outputs": [
    {
     "name": "stdout",
     "output_type": "stream",
     "text": [
      "<class 'pandas.core.frame.DataFrame'>\n",
      "RangeIndex: 1562505 entries, 0 to 1562504\n",
      "Data columns (total 5 columns):\n",
      " #   Column      Non-Null Count    Dtype               \n",
      "---  ------      --------------    -----               \n",
      " 0   user_id     1562505 non-null  int64               \n",
      " 1   item_id     1562505 non-null  int64               \n",
      " 2   progress    1562505 non-null  int8                \n",
      " 3   rating      323563 non-null   Sparse[float32, nan]\n",
      " 4   start_date  1562505 non-null  datetime64[ns]      \n",
      "dtypes: Sparse[float32, nan](1), datetime64[ns](1), int64(2), int8(1)\n",
      "memory usage: 39.7 MB\n"
     ]
    }
   ],
   "source": [
    "train=interactions\n",
    "train.info()"
   ]
  },
  {
   "cell_type": "code",
   "execution_count": 613,
   "metadata": {},
   "outputs": [
    {
     "data": {
      "text/html": [
       "<div>\n",
       "<style scoped>\n",
       "    .dataframe tbody tr th:only-of-type {\n",
       "        vertical-align: middle;\n",
       "    }\n",
       "\n",
       "    .dataframe tbody tr th {\n",
       "        vertical-align: top;\n",
       "    }\n",
       "\n",
       "    .dataframe thead th {\n",
       "        text-align: right;\n",
       "    }\n",
       "</style>\n",
       "<table border=\"1\" class=\"dataframe\">\n",
       "  <thead>\n",
       "    <tr style=\"text-align: right;\">\n",
       "      <th></th>\n",
       "      <th>Id</th>\n",
       "      <th>Predicted</th>\n",
       "    </tr>\n",
       "  </thead>\n",
       "  <tbody>\n",
       "    <tr>\n",
       "      <th>0</th>\n",
       "      <td>10001</td>\n",
       "      <td>313 253 245 205 187 168 155 149 146 128 128 12...</td>\n",
       "    </tr>\n",
       "    <tr>\n",
       "      <th>1</th>\n",
       "      <td>10002</td>\n",
       "      <td>313 253 245 205 187 168 155 149 146 128 128 12...</td>\n",
       "    </tr>\n",
       "    <tr>\n",
       "      <th>2</th>\n",
       "      <td>100152</td>\n",
       "      <td>313 253 245 205 187 168 155 149 146 128 128 12...</td>\n",
       "    </tr>\n",
       "    <tr>\n",
       "      <th>3</th>\n",
       "      <td>100197</td>\n",
       "      <td>313 253 245 205 187 168 155 149 146 128 128 12...</td>\n",
       "    </tr>\n",
       "    <tr>\n",
       "      <th>4</th>\n",
       "      <td>100284</td>\n",
       "      <td>313 253 245 205 187 168 155 149 146 128 128 12...</td>\n",
       "    </tr>\n",
       "  </tbody>\n",
       "</table>\n",
       "</div>"
      ],
      "text/plain": [
       "       Id                                          Predicted\n",
       "0   10001  313 253 245 205 187 168 155 149 146 128 128 12...\n",
       "1   10002  313 253 245 205 187 168 155 149 146 128 128 12...\n",
       "2  100152  313 253 245 205 187 168 155 149 146 128 128 12...\n",
       "3  100197  313 253 245 205 187 168 155 149 146 128 128 12...\n",
       "4  100284  313 253 245 205 187 168 155 149 146 128 128 12..."
      ]
     },
     "execution_count": 613,
     "metadata": {},
     "output_type": "execute_result"
    }
   ],
   "source": [
    "sample.head()"
   ]
  },
  {
   "cell_type": "code",
   "execution_count": 614,
   "metadata": {},
   "outputs": [
    {
     "data": {
      "text/html": [
       "<div>\n",
       "<style scoped>\n",
       "    .dataframe tbody tr th:only-of-type {\n",
       "        vertical-align: middle;\n",
       "    }\n",
       "\n",
       "    .dataframe tbody tr th {\n",
       "        vertical-align: top;\n",
       "    }\n",
       "\n",
       "    .dataframe thead th {\n",
       "        text-align: right;\n",
       "    }\n",
       "</style>\n",
       "<table border=\"1\" class=\"dataframe\">\n",
       "  <thead>\n",
       "    <tr style=\"text-align: right;\">\n",
       "      <th></th>\n",
       "      <th>user_id</th>\n",
       "      <th>item_id</th>\n",
       "      <th>progress</th>\n",
       "      <th>rating</th>\n",
       "      <th>start_date</th>\n",
       "    </tr>\n",
       "  </thead>\n",
       "  <tbody>\n",
       "  </tbody>\n",
       "</table>\n",
       "</div>"
      ],
      "text/plain": [
       "Empty DataFrame\n",
       "Columns: [user_id, item_id, progress, rating, start_date]\n",
       "Index: []"
      ]
     },
     "execution_count": 614,
     "metadata": {},
     "output_type": "execute_result"
    }
   ],
   "source": [
    "train[train.user_id==10309]"
   ]
  },
  {
   "cell_type": "code",
   "execution_count": 615,
   "metadata": {},
   "outputs": [
    {
     "name": "stdout",
     "output_type": "stream",
     "text": [
      "<class 'pandas.core.frame.DataFrame'>\n",
      "RangeIndex: 1562505 entries, 0 to 1562504\n",
      "Data columns (total 5 columns):\n",
      " #   Column      Non-Null Count    Dtype               \n",
      "---  ------      --------------    -----               \n",
      " 0   user_id     1562505 non-null  int64               \n",
      " 1   item_id     1562505 non-null  int64               \n",
      " 2   progress    1562505 non-null  int8                \n",
      " 3   rating      323563 non-null   Sparse[float32, nan]\n",
      " 4   start_date  1562505 non-null  datetime64[ns]      \n",
      "dtypes: Sparse[float32, nan](1), datetime64[ns](1), int64(2), int8(1)\n",
      "memory usage: 39.7 MB\n"
     ]
    }
   ],
   "source": [
    "train.info()"
   ]
  },
  {
   "cell_type": "markdown",
   "metadata": {},
   "source": [
    "### Implicit"
   ]
  },
  {
   "cell_type": "code",
   "execution_count": 644,
   "metadata": {},
   "outputs": [],
   "source": [
    "def get_coo_matrix(df, \n",
    "                   user_col='user_id', \n",
    "                   item_col='item_id', \n",
    "                   weight_col=None, \n",
    "                   users_mapping=users_mapping, \n",
    "                   items_mapping=items_mapping):\n",
    "    if weight_col is None:\n",
    "        weights = np.ones(len(df), dtype=np.float32)\n",
    "    else:\n",
    "        weights = df[weight_col].astype(np.float32)\n",
    "\n",
    "    interaction_matrix = sp.coo_matrix((\n",
    "        weights, \n",
    "        (\n",
    "            df[user_col].map(users_mapping.get), \n",
    "            df[item_col].map(items_mapping.get)\n",
    "        )\n",
    "    ))\n",
    "    return interaction_matrix"
   ]
  },
  {
   "cell_type": "code",
   "execution_count": null,
   "metadata": {},
   "outputs": [],
   "source": []
  },
  {
   "cell_type": "code",
   "execution_count": 645,
   "metadata": {},
   "outputs": [
    {
     "data": {
      "text/plain": [
       "<158325x63758 sparse matrix of type '<class 'numpy.float32'>'\n",
       "\twith 1046878 stored elements in Compressed Sparse Row format>"
      ]
     },
     "execution_count": 645,
     "metadata": {},
     "output_type": "execute_result"
    }
   ],
   "source": [
    "train_mat = get_coo_matrix(train).tocsr()\n",
    "train_mat"
   ]
  },
  {
   "cell_type": "code",
   "execution_count": 646,
   "metadata": {},
   "outputs": [],
   "source": [
    "from implicit.nearest_neighbours import CosineRecommender, BM25Recommender, TFIDFRecommender"
   ]
  },
  {
   "cell_type": "code",
   "execution_count": 647,
   "metadata": {},
   "outputs": [
    {
     "data": {
      "application/vnd.jupyter.widget-view+json": {
       "model_id": "ef5e41f752db41dfa5669dbfff7514ca",
       "version_major": 2,
       "version_minor": 0
      },
      "text/plain": [
       "HBox(children=(HTML(value=''), FloatProgress(value=0.0, max=63758.0), HTML(value='')))"
      ]
     },
     "metadata": {},
     "output_type": "display_data"
    },
    {
     "name": "stdout",
     "output_type": "stream",
     "text": [
      "\n"
     ]
    }
   ],
   "source": [
    "cosine_model = CosineRecommender(K=10)\n",
    "cosine_model.fit(train_mat.T) #"
   ]
  },
  {
   "cell_type": "code",
   "execution_count": 648,
   "metadata": {},
   "outputs": [
    {
     "name": "stdout",
     "output_type": "stream",
     "text": [
      "Рекомендации для пользователя 10001, номер строки - 112297\n"
     ]
    }
   ],
   "source": [
    "top_N = 10\n",
    "user_id = sample['Id'].iloc[0]\n",
    "row_id = users_mapping[user_id]\n",
    "print(f'Рекомендации для пользователя {user_id}, номер строки - {row_id}')"
   ]
  },
  {
   "cell_type": "code",
   "execution_count": 650,
   "metadata": {},
   "outputs": [],
   "source": [
    "recs = cosine_model.recommend(row_id, train_mat, N=top_N, filter_already_liked_items=True)"
   ]
  },
  {
   "cell_type": "code",
   "execution_count": 652,
   "metadata": {},
   "outputs": [
    {
     "data": {
      "text/html": [
       "<div>\n",
       "<style scoped>\n",
       "    .dataframe tbody tr th:only-of-type {\n",
       "        vertical-align: middle;\n",
       "    }\n",
       "\n",
       "    .dataframe tbody tr th {\n",
       "        vertical-align: top;\n",
       "    }\n",
       "\n",
       "    .dataframe thead th {\n",
       "        text-align: right;\n",
       "    }\n",
       "</style>\n",
       "<table border=\"1\" class=\"dataframe\">\n",
       "  <thead>\n",
       "    <tr style=\"text-align: right;\">\n",
       "      <th></th>\n",
       "      <th>col_id</th>\n",
       "      <th>similarity</th>\n",
       "    </tr>\n",
       "  </thead>\n",
       "  <tbody>\n",
       "    <tr>\n",
       "      <th>0</th>\n",
       "      <td>167</td>\n",
       "      <td>0.462178</td>\n",
       "    </tr>\n",
       "    <tr>\n",
       "      <th>1</th>\n",
       "      <td>30268</td>\n",
       "      <td>0.437026</td>\n",
       "    </tr>\n",
       "    <tr>\n",
       "      <th>2</th>\n",
       "      <td>38177</td>\n",
       "      <td>0.381475</td>\n",
       "    </tr>\n",
       "    <tr>\n",
       "      <th>3</th>\n",
       "      <td>25590</td>\n",
       "      <td>0.308837</td>\n",
       "    </tr>\n",
       "    <tr>\n",
       "      <th>4</th>\n",
       "      <td>10731</td>\n",
       "      <td>0.221652</td>\n",
       "    </tr>\n",
       "    <tr>\n",
       "      <th>5</th>\n",
       "      <td>44993</td>\n",
       "      <td>0.206523</td>\n",
       "    </tr>\n",
       "    <tr>\n",
       "      <th>6</th>\n",
       "      <td>1075</td>\n",
       "      <td>0.181818</td>\n",
       "    </tr>\n",
       "    <tr>\n",
       "      <th>7</th>\n",
       "      <td>30110</td>\n",
       "      <td>0.174078</td>\n",
       "    </tr>\n",
       "    <tr>\n",
       "      <th>8</th>\n",
       "      <td>51012</td>\n",
       "      <td>0.150756</td>\n",
       "    </tr>\n",
       "    <tr>\n",
       "      <th>9</th>\n",
       "      <td>60884</td>\n",
       "      <td>0.150756</td>\n",
       "    </tr>\n",
       "  </tbody>\n",
       "</table>\n",
       "</div>"
      ],
      "text/plain": [
       "   col_id  similarity\n",
       "0     167    0.462178\n",
       "1   30268    0.437026\n",
       "2   38177    0.381475\n",
       "3   25590    0.308837\n",
       "4   10731    0.221652\n",
       "5   44993    0.206523\n",
       "6    1075    0.181818\n",
       "7   30110    0.174078\n",
       "8   51012    0.150756\n",
       "9   60884    0.150756"
      ]
     },
     "execution_count": 652,
     "metadata": {},
     "output_type": "execute_result"
    }
   ],
   "source": [
    "recs = pd.DataFrame(recs, columns=['col_id', 'similarity'])\n",
    "recs"
   ]
  },
  {
   "cell_type": "code",
   "execution_count": null,
   "metadata": {},
   "outputs": [],
   "source": []
  },
  {
   "cell_type": "code",
   "execution_count": 653,
   "metadata": {},
   "outputs": [
    {
     "data": {
      "text/html": [
       "<div>\n",
       "<style scoped>\n",
       "    .dataframe tbody tr th:only-of-type {\n",
       "        vertical-align: middle;\n",
       "    }\n",
       "\n",
       "    .dataframe tbody tr th {\n",
       "        vertical-align: top;\n",
       "    }\n",
       "\n",
       "    .dataframe thead th {\n",
       "        text-align: right;\n",
       "    }\n",
       "</style>\n",
       "<table border=\"1\" class=\"dataframe\">\n",
       "  <thead>\n",
       "    <tr style=\"text-align: right;\">\n",
       "      <th></th>\n",
       "      <th>col_id</th>\n",
       "      <th>similarity</th>\n",
       "      <th>item_id</th>\n",
       "      <th>title</th>\n",
       "    </tr>\n",
       "  </thead>\n",
       "  <tbody>\n",
       "    <tr>\n",
       "      <th>0</th>\n",
       "      <td>167</td>\n",
       "      <td>0.462178</td>\n",
       "      <td>111649</td>\n",
       "      <td>после ссоры</td>\n",
       "    </tr>\n",
       "    <tr>\n",
       "      <th>1</th>\n",
       "      <td>30268</td>\n",
       "      <td>0.437026</td>\n",
       "      <td>296208</td>\n",
       "      <td>после – долго и счастливо</td>\n",
       "    </tr>\n",
       "    <tr>\n",
       "      <th>2</th>\n",
       "      <td>38177</td>\n",
       "      <td>0.381475</td>\n",
       "      <td>297168</td>\n",
       "      <td>до того как</td>\n",
       "    </tr>\n",
       "    <tr>\n",
       "      <th>3</th>\n",
       "      <td>25590</td>\n",
       "      <td>0.308837</td>\n",
       "      <td>186002</td>\n",
       "      <td>после</td>\n",
       "    </tr>\n",
       "    <tr>\n",
       "      <th>4</th>\n",
       "      <td>10731</td>\n",
       "      <td>0.221652</td>\n",
       "      <td>237354</td>\n",
       "      <td>ничего больше</td>\n",
       "    </tr>\n",
       "    <tr>\n",
       "      <th>5</th>\n",
       "      <td>44993</td>\n",
       "      <td>0.206523</td>\n",
       "      <td>235765</td>\n",
       "      <td>никак не меньше</td>\n",
       "    </tr>\n",
       "    <tr>\n",
       "      <th>6</th>\n",
       "      <td>1075</td>\n",
       "      <td>0.181818</td>\n",
       "      <td>234997</td>\n",
       "      <td>часы, идущие назад</td>\n",
       "    </tr>\n",
       "    <tr>\n",
       "      <th>7</th>\n",
       "      <td>30110</td>\n",
       "      <td>0.174078</td>\n",
       "      <td>303515</td>\n",
       "      <td>путешествие по ту сторону</td>\n",
       "    </tr>\n",
       "    <tr>\n",
       "      <th>8</th>\n",
       "      <td>51012</td>\n",
       "      <td>0.150756</td>\n",
       "      <td>151006</td>\n",
       "      <td>темные тени нехорошей квартиры</td>\n",
       "    </tr>\n",
       "    <tr>\n",
       "      <th>9</th>\n",
       "      <td>60884</td>\n",
       "      <td>0.150756</td>\n",
       "      <td>188065</td>\n",
       "      <td>скрытая реальность. книга первая. щелкунчик</td>\n",
       "    </tr>\n",
       "  </tbody>\n",
       "</table>\n",
       "</div>"
      ],
      "text/plain": [
       "   col_id  similarity  item_id                                        title\n",
       "0     167    0.462178   111649                                  после ссоры\n",
       "1   30268    0.437026   296208                    после – долго и счастливо\n",
       "2   38177    0.381475   297168                                  до того как\n",
       "3   25590    0.308837   186002                                        после\n",
       "4   10731    0.221652   237354                                ничего больше\n",
       "5   44993    0.206523   235765                              никак не меньше\n",
       "6    1075    0.181818   234997                           часы, идущие назад\n",
       "7   30110    0.174078   303515                    путешествие по ту сторону\n",
       "8   51012    0.150756   151006               темные тени нехорошей квартиры\n",
       "9   60884    0.150756   188065  скрытая реальность. книга первая. щелкунчик"
      ]
     },
     "execution_count": 653,
     "metadata": {},
     "output_type": "execute_result"
    }
   ],
   "source": [
    "recs['item_id'] = recs['col_id'].map(items_inv_mapping.get)\n",
    "recs['title'] = recs['item_id'].map(item_titles.get)\n",
    "recs"
   ]
  },
  {
   "cell_type": "code",
   "execution_count": 759,
   "metadata": {},
   "outputs": [],
   "source": [
    "def generate_implicit_recs_mapper(model, train_matrix, N, user_mapping, item_inv_mapping):\n",
    "    def _recs_mapper(user):\n",
    "        try:\n",
    "            user_id = user_mapping[user]\n",
    "        except KeyError:\n",
    "            import random\n",
    "            user_id =user_mapping[random.choice(list(forrand['user_id']))]\n",
    "\n",
    "   \n",
    "        \n",
    "        #номер строки юзера в словаре user_mapping\n",
    "        recs = model.recommend(user_id, \n",
    "                               train_matrix, \n",
    "                               N=N, \n",
    "                               filter_already_liked_items=True)\n",
    "        return [item_inv_mapping[item] for item, _ in recs] #возвращает список айтемов из рекоменд модели при подстановки айди юзера\n",
    "    return _recs_mapper"
   ]
  },
  {
   "cell_type": "code",
   "execution_count": 760,
   "metadata": {},
   "outputs": [],
   "source": [
    "mapper = generate_implicit_recs_mapper(cosine_model, train_mat, top_N, users_mapping, items_inv_mapping)"
   ]
  },
  {
   "cell_type": "code",
   "execution_count": 666,
   "metadata": {},
   "outputs": [],
   "source": [
    "sample=sample.rename(columns={\"Id\": \"user_id\", \"Predicted\": \"Predicted\"})"
   ]
  },
  {
   "cell_type": "code",
   "execution_count": 761,
   "metadata": {},
   "outputs": [
    {
     "name": "stdout",
     "output_type": "stream",
     "text": [
      "Wall time: 0 ns\n"
     ]
    },
    {
     "data": {
      "text/html": [
       "<div>\n",
       "<style scoped>\n",
       "    .dataframe tbody tr th:only-of-type {\n",
       "        vertical-align: middle;\n",
       "    }\n",
       "\n",
       "    .dataframe tbody tr th {\n",
       "        vertical-align: top;\n",
       "    }\n",
       "\n",
       "    .dataframe thead th {\n",
       "        text-align: right;\n",
       "    }\n",
       "</style>\n",
       "<table border=\"1\" class=\"dataframe\">\n",
       "  <thead>\n",
       "    <tr style=\"text-align: right;\">\n",
       "      <th></th>\n",
       "      <th>user_id</th>\n",
       "      <th>item_id</th>\n",
       "    </tr>\n",
       "  </thead>\n",
       "  <tbody>\n",
       "    <tr>\n",
       "      <th>0</th>\n",
       "      <td>10001</td>\n",
       "      <td>[111649, 296208, 297168, 186002, 237354, 23576...</td>\n",
       "    </tr>\n",
       "    <tr>\n",
       "      <th>1</th>\n",
       "      <td>10002</td>\n",
       "      <td>[240408, 146455, 216971, 34530, 173125, 390138...</td>\n",
       "    </tr>\n",
       "    <tr>\n",
       "      <th>2</th>\n",
       "      <td>100152</td>\n",
       "      <td>[254229, 167562, 164132, 103839, 287084, 20505...</td>\n",
       "    </tr>\n",
       "    <tr>\n",
       "      <th>3</th>\n",
       "      <td>100197</td>\n",
       "      <td>[155301, 28353, 384765, 154214, 231681, 145823...</td>\n",
       "    </tr>\n",
       "    <tr>\n",
       "      <th>4</th>\n",
       "      <td>100284</td>\n",
       "      <td>[240559, 168733, 170741, 21375, 312572, 164263...</td>\n",
       "    </tr>\n",
       "  </tbody>\n",
       "</table>\n",
       "</div>"
      ],
      "text/plain": [
       "   user_id                                            item_id\n",
       "0    10001  [111649, 296208, 297168, 186002, 237354, 23576...\n",
       "1    10002  [240408, 146455, 216971, 34530, 173125, 390138...\n",
       "2   100152  [254229, 167562, 164132, 103839, 287084, 20505...\n",
       "3   100197  [155301, 28353, 384765, 154214, 231681, 145823...\n",
       "4   100284  [240559, 168733, 170741, 21375, 312572, 164263..."
      ]
     },
     "execution_count": 761,
     "metadata": {},
     "output_type": "execute_result"
    }
   ],
   "source": [
    "%time\n",
    "recs = pd.DataFrame({\n",
    "    'user_id': sample['user_id'].unique()\n",
    "})\n",
    "recs['item_id'] = recs['user_id'].map(mapper)\n",
    "recs.head()"
   ]
  },
  {
   "cell_type": "code",
   "execution_count": 750,
   "metadata": {},
   "outputs": [
    {
     "name": "stdout",
     "output_type": "stream",
     "text": [
      "<class 'pandas.core.frame.DataFrame'>\n",
      "RangeIndex: 3074 entries, 0 to 3073\n",
      "Data columns (total 2 columns):\n",
      " #   Column   Non-Null Count  Dtype \n",
      "---  ------   --------------  ----- \n",
      " 0   user_id  3074 non-null   int64 \n",
      " 1   item_id  3074 non-null   object\n",
      "dtypes: int64(1), object(1)\n",
      "memory usage: 48.2+ KB\n"
     ]
    }
   ],
   "source": [
    "recs.info()"
   ]
  },
  {
   "cell_type": "code",
   "execution_count": 751,
   "metadata": {},
   "outputs": [],
   "source": [
    "#Transform each element of a list-like to a row, replicating index values.\n",
    "recs = recs.explode('item_id')\n",
    "recs['rank'] = recs.groupby('user_id').cumcount() + 1"
   ]
  },
  {
   "cell_type": "code",
   "execution_count": 770,
   "metadata": {},
   "outputs": [
    {
     "data": {
      "text/html": [
       "<div>\n",
       "<style scoped>\n",
       "    .dataframe tbody tr th:only-of-type {\n",
       "        vertical-align: middle;\n",
       "    }\n",
       "\n",
       "    .dataframe tbody tr th {\n",
       "        vertical-align: top;\n",
       "    }\n",
       "\n",
       "    .dataframe thead th {\n",
       "        text-align: right;\n",
       "    }\n",
       "</style>\n",
       "<table border=\"1\" class=\"dataframe\">\n",
       "  <thead>\n",
       "    <tr style=\"text-align: right;\">\n",
       "      <th></th>\n",
       "      <th>user_id</th>\n",
       "      <th>item_id</th>\n",
       "    </tr>\n",
       "  </thead>\n",
       "  <tbody>\n",
       "    <tr>\n",
       "      <th>0</th>\n",
       "      <td>10001</td>\n",
       "      <td>[111649, 296208, 297168, 186002, 237354, 23576...</td>\n",
       "    </tr>\n",
       "    <tr>\n",
       "      <th>1</th>\n",
       "      <td>10002</td>\n",
       "      <td>[240408, 146455, 216971, 34530, 173125, 390138...</td>\n",
       "    </tr>\n",
       "    <tr>\n",
       "      <th>2</th>\n",
       "      <td>100152</td>\n",
       "      <td>[254229, 167562, 164132, 103839, 287084, 20505...</td>\n",
       "    </tr>\n",
       "    <tr>\n",
       "      <th>3</th>\n",
       "      <td>100197</td>\n",
       "      <td>[155301, 28353, 384765, 154214, 231681, 145823...</td>\n",
       "    </tr>\n",
       "    <tr>\n",
       "      <th>4</th>\n",
       "      <td>100284</td>\n",
       "      <td>[240559, 168733, 170741, 21375, 312572, 164263...</td>\n",
       "    </tr>\n",
       "    <tr>\n",
       "      <th>...</th>\n",
       "      <td>...</td>\n",
       "      <td>...</td>\n",
       "    </tr>\n",
       "    <tr>\n",
       "      <th>3069</th>\n",
       "      <td>99734</td>\n",
       "      <td>[213245, 106590, 216658, 45238, 260428, 377851...</td>\n",
       "    </tr>\n",
       "    <tr>\n",
       "      <th>3070</th>\n",
       "      <td>99757</td>\n",
       "      <td>[286258, 234893, 181195, 267855, 386293, 31250...</td>\n",
       "    </tr>\n",
       "    <tr>\n",
       "      <th>3071</th>\n",
       "      <td>99772</td>\n",
       "      <td>[330775, 223652, 3869, 315239, 230718, 262718,...</td>\n",
       "    </tr>\n",
       "    <tr>\n",
       "      <th>3072</th>\n",
       "      <td>99827</td>\n",
       "      <td>[149928, 106113, 128133, 316428, 280472, 24774...</td>\n",
       "    </tr>\n",
       "    <tr>\n",
       "      <th>3073</th>\n",
       "      <td>99881</td>\n",
       "      <td>[298053, 199298, 100549, 132014, 128872, 4863,...</td>\n",
       "    </tr>\n",
       "  </tbody>\n",
       "</table>\n",
       "<p>3074 rows × 2 columns</p>\n",
       "</div>"
      ],
      "text/plain": [
       "      user_id                                            item_id\n",
       "0       10001  [111649, 296208, 297168, 186002, 237354, 23576...\n",
       "1       10002  [240408, 146455, 216971, 34530, 173125, 390138...\n",
       "2      100152  [254229, 167562, 164132, 103839, 287084, 20505...\n",
       "3      100197  [155301, 28353, 384765, 154214, 231681, 145823...\n",
       "4      100284  [240559, 168733, 170741, 21375, 312572, 164263...\n",
       "...       ...                                                ...\n",
       "3069    99734  [213245, 106590, 216658, 45238, 260428, 377851...\n",
       "3070    99757  [286258, 234893, 181195, 267855, 386293, 31250...\n",
       "3071    99772  [330775, 223652, 3869, 315239, 230718, 262718,...\n",
       "3072    99827  [149928, 106113, 128133, 316428, 280472, 24774...\n",
       "3073    99881  [298053, 199298, 100549, 132014, 128872, 4863,...\n",
       "\n",
       "[3074 rows x 2 columns]"
      ]
     },
     "execution_count": 770,
     "metadata": {},
     "output_type": "execute_result"
    }
   ],
   "source": [
    "recs"
   ]
  },
  {
   "cell_type": "code",
   "execution_count": 768,
   "metadata": {},
   "outputs": [
    {
     "data": {
      "text/html": [
       "<div>\n",
       "<style scoped>\n",
       "    .dataframe tbody tr th:only-of-type {\n",
       "        vertical-align: middle;\n",
       "    }\n",
       "\n",
       "    .dataframe tbody tr th {\n",
       "        vertical-align: top;\n",
       "    }\n",
       "\n",
       "    .dataframe thead th {\n",
       "        text-align: right;\n",
       "    }\n",
       "</style>\n",
       "<table border=\"1\" class=\"dataframe\">\n",
       "  <thead>\n",
       "    <tr style=\"text-align: right;\">\n",
       "      <th></th>\n",
       "      <th>user_id</th>\n",
       "      <th>Predicted</th>\n",
       "    </tr>\n",
       "  </thead>\n",
       "  <tbody>\n",
       "    <tr>\n",
       "      <th>0</th>\n",
       "      <td>10001</td>\n",
       "      <td>313 253 245 205 187 168 155 149 146 128 128 12...</td>\n",
       "    </tr>\n",
       "    <tr>\n",
       "      <th>1</th>\n",
       "      <td>10002</td>\n",
       "      <td>313 253 245 205 187 168 155 149 146 128 128 12...</td>\n",
       "    </tr>\n",
       "    <tr>\n",
       "      <th>2</th>\n",
       "      <td>100152</td>\n",
       "      <td>313 253 245 205 187 168 155 149 146 128 128 12...</td>\n",
       "    </tr>\n",
       "    <tr>\n",
       "      <th>3</th>\n",
       "      <td>100197</td>\n",
       "      <td>313 253 245 205 187 168 155 149 146 128 128 12...</td>\n",
       "    </tr>\n",
       "    <tr>\n",
       "      <th>4</th>\n",
       "      <td>100284</td>\n",
       "      <td>313 253 245 205 187 168 155 149 146 128 128 12...</td>\n",
       "    </tr>\n",
       "    <tr>\n",
       "      <th>...</th>\n",
       "      <td>...</td>\n",
       "      <td>...</td>\n",
       "    </tr>\n",
       "    <tr>\n",
       "      <th>3069</th>\n",
       "      <td>99734</td>\n",
       "      <td>313 253 245 205 187 168 155 149 146 128 128 12...</td>\n",
       "    </tr>\n",
       "    <tr>\n",
       "      <th>3070</th>\n",
       "      <td>99757</td>\n",
       "      <td>313 253 245 205 187 168 155 149 146 128 128 12...</td>\n",
       "    </tr>\n",
       "    <tr>\n",
       "      <th>3071</th>\n",
       "      <td>99772</td>\n",
       "      <td>313 253 245 205 187 168 155 149 146 128 128 12...</td>\n",
       "    </tr>\n",
       "    <tr>\n",
       "      <th>3072</th>\n",
       "      <td>99827</td>\n",
       "      <td>313 253 245 205 187 168 155 149 146 128 128 12...</td>\n",
       "    </tr>\n",
       "    <tr>\n",
       "      <th>3073</th>\n",
       "      <td>99881</td>\n",
       "      <td>313 253 245 205 187 168 155 149 146 128 128 12...</td>\n",
       "    </tr>\n",
       "  </tbody>\n",
       "</table>\n",
       "<p>3074 rows × 2 columns</p>\n",
       "</div>"
      ],
      "text/plain": [
       "      user_id                                          Predicted\n",
       "0       10001  313 253 245 205 187 168 155 149 146 128 128 12...\n",
       "1       10002  313 253 245 205 187 168 155 149 146 128 128 12...\n",
       "2      100152  313 253 245 205 187 168 155 149 146 128 128 12...\n",
       "3      100197  313 253 245 205 187 168 155 149 146 128 128 12...\n",
       "4      100284  313 253 245 205 187 168 155 149 146 128 128 12...\n",
       "...       ...                                                ...\n",
       "3069    99734  313 253 245 205 187 168 155 149 146 128 128 12...\n",
       "3070    99757  313 253 245 205 187 168 155 149 146 128 128 12...\n",
       "3071    99772  313 253 245 205 187 168 155 149 146 128 128 12...\n",
       "3072    99827  313 253 245 205 187 168 155 149 146 128 128 12...\n",
       "3073    99881  313 253 245 205 187 168 155 149 146 128 128 12...\n",
       "\n",
       "[3074 rows x 2 columns]"
      ]
     },
     "execution_count": 768,
     "metadata": {},
     "output_type": "execute_result"
    }
   ],
   "source": [
    "sample.explode('Predicted')"
   ]
  },
  {
   "cell_type": "code",
   "execution_count": 769,
   "metadata": {},
   "outputs": [
    {
     "data": {
      "text/html": [
       "<div>\n",
       "<style scoped>\n",
       "    .dataframe tbody tr th:only-of-type {\n",
       "        vertical-align: middle;\n",
       "    }\n",
       "\n",
       "    .dataframe tbody tr th {\n",
       "        vertical-align: top;\n",
       "    }\n",
       "\n",
       "    .dataframe thead th {\n",
       "        text-align: right;\n",
       "    }\n",
       "</style>\n",
       "<table border=\"1\" class=\"dataframe\">\n",
       "  <thead>\n",
       "    <tr style=\"text-align: right;\">\n",
       "      <th></th>\n",
       "      <th>user_id</th>\n",
       "      <th>Predicted</th>\n",
       "    </tr>\n",
       "  </thead>\n",
       "  <tbody>\n",
       "    <tr>\n",
       "      <th>0</th>\n",
       "      <td>10001</td>\n",
       "      <td>313 253 245 205 187 168 155 149 146 128 128 12...</td>\n",
       "    </tr>\n",
       "    <tr>\n",
       "      <th>1</th>\n",
       "      <td>10002</td>\n",
       "      <td>313 253 245 205 187 168 155 149 146 128 128 12...</td>\n",
       "    </tr>\n",
       "    <tr>\n",
       "      <th>2</th>\n",
       "      <td>100152</td>\n",
       "      <td>313 253 245 205 187 168 155 149 146 128 128 12...</td>\n",
       "    </tr>\n",
       "    <tr>\n",
       "      <th>3</th>\n",
       "      <td>100197</td>\n",
       "      <td>313 253 245 205 187 168 155 149 146 128 128 12...</td>\n",
       "    </tr>\n",
       "    <tr>\n",
       "      <th>4</th>\n",
       "      <td>100284</td>\n",
       "      <td>313 253 245 205 187 168 155 149 146 128 128 12...</td>\n",
       "    </tr>\n",
       "    <tr>\n",
       "      <th>...</th>\n",
       "      <td>...</td>\n",
       "      <td>...</td>\n",
       "    </tr>\n",
       "    <tr>\n",
       "      <th>3069</th>\n",
       "      <td>99734</td>\n",
       "      <td>313 253 245 205 187 168 155 149 146 128 128 12...</td>\n",
       "    </tr>\n",
       "    <tr>\n",
       "      <th>3070</th>\n",
       "      <td>99757</td>\n",
       "      <td>313 253 245 205 187 168 155 149 146 128 128 12...</td>\n",
       "    </tr>\n",
       "    <tr>\n",
       "      <th>3071</th>\n",
       "      <td>99772</td>\n",
       "      <td>313 253 245 205 187 168 155 149 146 128 128 12...</td>\n",
       "    </tr>\n",
       "    <tr>\n",
       "      <th>3072</th>\n",
       "      <td>99827</td>\n",
       "      <td>313 253 245 205 187 168 155 149 146 128 128 12...</td>\n",
       "    </tr>\n",
       "    <tr>\n",
       "      <th>3073</th>\n",
       "      <td>99881</td>\n",
       "      <td>313 253 245 205 187 168 155 149 146 128 128 12...</td>\n",
       "    </tr>\n",
       "  </tbody>\n",
       "</table>\n",
       "<p>3074 rows × 2 columns</p>\n",
       "</div>"
      ],
      "text/plain": [
       "      user_id                                          Predicted\n",
       "0       10001  313 253 245 205 187 168 155 149 146 128 128 12...\n",
       "1       10002  313 253 245 205 187 168 155 149 146 128 128 12...\n",
       "2      100152  313 253 245 205 187 168 155 149 146 128 128 12...\n",
       "3      100197  313 253 245 205 187 168 155 149 146 128 128 12...\n",
       "4      100284  313 253 245 205 187 168 155 149 146 128 128 12...\n",
       "...       ...                                                ...\n",
       "3069    99734  313 253 245 205 187 168 155 149 146 128 128 12...\n",
       "3070    99757  313 253 245 205 187 168 155 149 146 128 128 12...\n",
       "3071    99772  313 253 245 205 187 168 155 149 146 128 128 12...\n",
       "3072    99827  313 253 245 205 187 168 155 149 146 128 128 12...\n",
       "3073    99881  313 253 245 205 187 168 155 149 146 128 128 12...\n",
       "\n",
       "[3074 rows x 2 columns]"
      ]
     },
     "execution_count": 769,
     "metadata": {},
     "output_type": "execute_result"
    }
   ],
   "source": [
    "sample"
   ]
  },
  {
   "cell_type": "code",
   "execution_count": 764,
   "metadata": {},
   "outputs": [
    {
     "ename": "KeyError",
     "evalue": "\"None of ['item_id'] are in the columns\"",
     "output_type": "error",
     "traceback": [
      "\u001b[1;31m---------------------------------------------------------------------------\u001b[0m",
      "\u001b[1;31mKeyError\u001b[0m                                  Traceback (most recent call last)",
      "\u001b[1;32m<ipython-input-764-7289912a4551>\u001b[0m in \u001b[0;36m<module>\u001b[1;34m\u001b[0m\n\u001b[1;32m----> 1\u001b[1;33m \u001b[0mmetrics\u001b[0m \u001b[1;33m=\u001b[0m \u001b[0mcompute_metrics\u001b[0m\u001b[1;33m(\u001b[0m\u001b[0msample\u001b[0m\u001b[1;33m,\u001b[0m \u001b[0mrecs\u001b[0m\u001b[1;33m.\u001b[0m\u001b[0mexplode\u001b[0m\u001b[1;33m(\u001b[0m\u001b[1;34m'item_id'\u001b[0m\u001b[1;33m)\u001b[0m\u001b[1;33m,\u001b[0m \u001b[0mtop_N\u001b[0m\u001b[1;33m)\u001b[0m\u001b[1;33m\u001b[0m\u001b[1;33m\u001b[0m\u001b[0m\n\u001b[0m\u001b[0;32m      2\u001b[0m \u001b[0mmetrics\u001b[0m\u001b[1;33m\u001b[0m\u001b[1;33m\u001b[0m\u001b[0m\n",
      "\u001b[1;32m<ipython-input-611-baf60206ab55>\u001b[0m in \u001b[0;36mcompute_metrics\u001b[1;34m(df_true, df_pred, top_N)\u001b[0m\n\u001b[0;32m      1\u001b[0m \u001b[1;32mdef\u001b[0m \u001b[0mcompute_metrics\u001b[0m\u001b[1;33m(\u001b[0m\u001b[0mdf_true\u001b[0m\u001b[1;33m,\u001b[0m \u001b[0mdf_pred\u001b[0m\u001b[1;33m,\u001b[0m \u001b[0mtop_N\u001b[0m\u001b[1;33m)\u001b[0m\u001b[1;33m:\u001b[0m\u001b[1;33m\u001b[0m\u001b[1;33m\u001b[0m\u001b[0m\n\u001b[0;32m      2\u001b[0m     \u001b[0mresult\u001b[0m \u001b[1;33m=\u001b[0m \u001b[1;33m{\u001b[0m\u001b[1;33m}\u001b[0m\u001b[1;33m\u001b[0m\u001b[1;33m\u001b[0m\u001b[0m\n\u001b[1;32m----> 3\u001b[1;33m     \u001b[0mtest_recs\u001b[0m \u001b[1;33m=\u001b[0m \u001b[0mdf_true\u001b[0m\u001b[1;33m.\u001b[0m\u001b[0mset_index\u001b[0m\u001b[1;33m(\u001b[0m\u001b[1;33m[\u001b[0m\u001b[1;34m'user_id'\u001b[0m\u001b[1;33m,\u001b[0m \u001b[1;34m'item_id'\u001b[0m\u001b[1;33m]\u001b[0m\u001b[1;33m)\u001b[0m\u001b[1;33m.\u001b[0m\u001b[0mjoin\u001b[0m\u001b[1;33m(\u001b[0m\u001b[0mdf_pred\u001b[0m\u001b[1;33m.\u001b[0m\u001b[0mset_index\u001b[0m\u001b[1;33m(\u001b[0m\u001b[1;33m[\u001b[0m\u001b[1;34m'user_id'\u001b[0m\u001b[1;33m,\u001b[0m \u001b[1;34m'item_id'\u001b[0m\u001b[1;33m]\u001b[0m\u001b[1;33m)\u001b[0m\u001b[1;33m)\u001b[0m\u001b[1;33m\u001b[0m\u001b[1;33m\u001b[0m\u001b[0m\n\u001b[0m\u001b[0;32m      4\u001b[0m     \u001b[0mtest_recs\u001b[0m \u001b[1;33m=\u001b[0m \u001b[0mtest_recs\u001b[0m\u001b[1;33m.\u001b[0m\u001b[0msort_values\u001b[0m\u001b[1;33m(\u001b[0m\u001b[0mby\u001b[0m\u001b[1;33m=\u001b[0m\u001b[1;33m[\u001b[0m\u001b[1;34m'user_id'\u001b[0m\u001b[1;33m,\u001b[0m \u001b[1;34m'rank'\u001b[0m\u001b[1;33m]\u001b[0m\u001b[1;33m)\u001b[0m\u001b[1;33m\u001b[0m\u001b[1;33m\u001b[0m\u001b[0m\n\u001b[0;32m      5\u001b[0m \u001b[1;33m\u001b[0m\u001b[0m\n",
      "\u001b[1;32mE:\\Anaconda\\lib\\site-packages\\pandas\\core\\frame.py\u001b[0m in \u001b[0;36mset_index\u001b[1;34m(self, keys, drop, append, inplace, verify_integrity)\u001b[0m\n\u001b[0;32m   4549\u001b[0m \u001b[1;33m\u001b[0m\u001b[0m\n\u001b[0;32m   4550\u001b[0m         \u001b[1;32mif\u001b[0m \u001b[0mmissing\u001b[0m\u001b[1;33m:\u001b[0m\u001b[1;33m\u001b[0m\u001b[1;33m\u001b[0m\u001b[0m\n\u001b[1;32m-> 4551\u001b[1;33m             \u001b[1;32mraise\u001b[0m \u001b[0mKeyError\u001b[0m\u001b[1;33m(\u001b[0m\u001b[1;34mf\"None of {missing} are in the columns\"\u001b[0m\u001b[1;33m)\u001b[0m\u001b[1;33m\u001b[0m\u001b[1;33m\u001b[0m\u001b[0m\n\u001b[0m\u001b[0;32m   4552\u001b[0m \u001b[1;33m\u001b[0m\u001b[0m\n\u001b[0;32m   4553\u001b[0m         \u001b[1;32mif\u001b[0m \u001b[0minplace\u001b[0m\u001b[1;33m:\u001b[0m\u001b[1;33m\u001b[0m\u001b[1;33m\u001b[0m\u001b[0m\n",
      "\u001b[1;31mKeyError\u001b[0m: \"None of ['item_id'] are in the columns\""
     ]
    }
   ],
   "source": [
    "metrics = compute_metrics(sample, recs.explode('item_id'), top_N)\n",
    "metrics"
   ]
  },
  {
   "cell_type": "code",
   "execution_count": null,
   "metadata": {},
   "outputs": [],
   "source": []
  },
  {
   "cell_type": "markdown",
   "metadata": {},
   "source": [
    "### Функция для конвертации датафрейма с рекомендациями в нужный формат для сабмита"
   ]
  },
  {
   "cell_type": "code",
   "execution_count": 753,
   "metadata": {},
   "outputs": [],
   "source": [
    "def make_submission(df, id_col='user_id', predicted_col='item_id'):\n",
    "    \n",
    "    df_copy = df.copy()\n",
    "    df_copy.loc[:, id_col] = df_copy[id_col].astype(str)\n",
    "    df_copy.loc[:, predicted_col] = df_copy[predicted_col].astype(str)\n",
    "    df_copy = df_copy.groupby(id_col, as_index=False).agg({predicted_col: lambda x: ' '.join(list(x))})\n",
    "    df_copy.rename(columns={id_col: 'Id', predicted_col: 'Predicted'}, inplace=True)\n",
    "    \n",
    "    return df_copy[['Id', 'Predicted']]"
   ]
  },
  {
   "cell_type": "code",
   "execution_count": 754,
   "metadata": {},
   "outputs": [
    {
     "data": {
      "text/html": [
       "<div>\n",
       "<style scoped>\n",
       "    .dataframe tbody tr th:only-of-type {\n",
       "        vertical-align: middle;\n",
       "    }\n",
       "\n",
       "    .dataframe tbody tr th {\n",
       "        vertical-align: top;\n",
       "    }\n",
       "\n",
       "    .dataframe thead th {\n",
       "        text-align: right;\n",
       "    }\n",
       "</style>\n",
       "<table border=\"1\" class=\"dataframe\">\n",
       "  <thead>\n",
       "    <tr style=\"text-align: right;\">\n",
       "      <th></th>\n",
       "      <th>Id</th>\n",
       "      <th>Predicted</th>\n",
       "    </tr>\n",
       "  </thead>\n",
       "  <tbody>\n",
       "    <tr>\n",
       "      <th>0</th>\n",
       "      <td>10001</td>\n",
       "      <td>111649 296208 297168 186002 237354 235765 2349...</td>\n",
       "    </tr>\n",
       "    <tr>\n",
       "      <th>1</th>\n",
       "      <td>10002</td>\n",
       "      <td>240408 146455 216971 34530 173125 390138 15014...</td>\n",
       "    </tr>\n",
       "    <tr>\n",
       "      <th>2</th>\n",
       "      <td>100152</td>\n",
       "      <td>254229 167562 164132 103839 287084 205056 3486...</td>\n",
       "    </tr>\n",
       "    <tr>\n",
       "      <th>3</th>\n",
       "      <td>100197</td>\n",
       "      <td>155301 28353 384765 154214 231681 145823 14317...</td>\n",
       "    </tr>\n",
       "    <tr>\n",
       "      <th>4</th>\n",
       "      <td>100284</td>\n",
       "      <td>240559 168733 170741 21375 312572 164263 27372...</td>\n",
       "    </tr>\n",
       "  </tbody>\n",
       "</table>\n",
       "</div>"
      ],
      "text/plain": [
       "       Id                                          Predicted\n",
       "0   10001  111649 296208 297168 186002 237354 235765 2349...\n",
       "1   10002  240408 146455 216971 34530 173125 390138 15014...\n",
       "2  100152  254229 167562 164132 103839 287084 205056 3486...\n",
       "3  100197  155301 28353 384765 154214 231681 145823 14317...\n",
       "4  100284  240559 168733 170741 21375 312572 164263 27372..."
      ]
     },
     "execution_count": 754,
     "metadata": {},
     "output_type": "execute_result"
    }
   ],
   "source": [
    "submission_recs = make_submission(recs)\n",
    "submission_recs.head()"
   ]
  },
  {
   "cell_type": "code",
   "execution_count": 755,
   "metadata": {},
   "outputs": [
    {
     "name": "stdout",
     "output_type": "stream",
     "text": [
      "<class 'pandas.core.frame.DataFrame'>\n",
      "Int64Index: 3074 entries, 0 to 3073\n",
      "Data columns (total 2 columns):\n",
      " #   Column     Non-Null Count  Dtype \n",
      "---  ------     --------------  ----- \n",
      " 0   Id         3074 non-null   object\n",
      " 1   Predicted  3074 non-null   object\n",
      "dtypes: object(2)\n",
      "memory usage: 72.0+ KB\n"
     ]
    }
   ],
   "source": [
    "submission_recs.info()"
   ]
  },
  {
   "cell_type": "code",
   "execution_count": 756,
   "metadata": {},
   "outputs": [
    {
     "name": "stdout",
     "output_type": "stream",
     "text": [
      "<class 'pandas.core.frame.DataFrame'>\n",
      "RangeIndex: 3074 entries, 0 to 3073\n",
      "Data columns (total 2 columns):\n",
      " #   Column     Non-Null Count  Dtype \n",
      "---  ------     --------------  ----- \n",
      " 0   user_id    3074 non-null   int64 \n",
      " 1   Predicted  3074 non-null   object\n",
      "dtypes: int64(1), object(1)\n",
      "memory usage: 48.2+ KB\n"
     ]
    }
   ],
   "source": [
    "sample.info()"
   ]
  },
  {
   "cell_type": "code",
   "execution_count": 757,
   "metadata": {},
   "outputs": [],
   "source": [
    "submission_recs.to_csv('submission_recs2.csv', index=False)"
   ]
  }
 ],
 "metadata": {
  "kernelspec": {
   "display_name": "Python 3",
   "language": "python",
   "name": "python3"
  },
  "language_info": {
   "codemirror_mode": {
    "name": "ipython",
    "version": 3
   },
   "file_extension": ".py",
   "mimetype": "text/x-python",
   "name": "python",
   "nbconvert_exporter": "python",
   "pygments_lexer": "ipython3",
   "version": "3.8.5"
  }
 },
 "nbformat": 4,
 "nbformat_minor": 4
}
